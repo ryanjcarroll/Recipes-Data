{
 "cells": [
  {
   "cell_type": "code",
   "execution_count": 3,
   "metadata": {},
   "outputs": [],
   "source": [
    "import numpy as np\n",
    "import pandas as pd\n",
    "import re\n",
    "import matplotlib.pyplot as plt"
   ]
  },
  {
   "cell_type": "markdown",
   "metadata": {},
   "source": [
    "# Recipe Analysis from Allrecipes.com\n",
    "\n",
    "Using the Web Scraper notebook, we scraped recipes from www.allrecipes.com and loaded them into a JSON file called 'recipes.json'.  We will import this json file as a pandas DataFrame object and perform our analyses on that."
   ]
  },
  {
   "cell_type": "markdown",
   "metadata": {},
   "source": [
    "# Data Analysis\n",
    "\n",
    "Now we have a JSON object which contains recipe information scraped from the web.  We can use this data and perform some analyses on it."
   ]
  },
  {
   "cell_type": "code",
   "execution_count": 4,
   "metadata": {
    "scrolled": false
   },
   "outputs": [
    {
     "data": {
      "text/html": [
       "<div>\n",
       "<style scoped>\n",
       "    .dataframe tbody tr th:only-of-type {\n",
       "        vertical-align: middle;\n",
       "    }\n",
       "\n",
       "    .dataframe tbody tr th {\n",
       "        vertical-align: top;\n",
       "    }\n",
       "\n",
       "    .dataframe thead th {\n",
       "        text-align: right;\n",
       "    }\n",
       "</style>\n",
       "<table border=\"1\" class=\"dataframe\">\n",
       "  <thead>\n",
       "    <tr style=\"text-align: right;\">\n",
       "      <th></th>\n",
       "      <th>title</th>\n",
       "      <th>servings</th>\n",
       "      <th>cook_time</th>\n",
       "      <th>prep_time</th>\n",
       "      <th>additional_time</th>\n",
       "      <th>total_time</th>\n",
       "      <th>ingredients</th>\n",
       "      <th>method</th>\n",
       "      <th>layout</th>\n",
       "      <th>picture</th>\n",
       "    </tr>\n",
       "  </thead>\n",
       "  <tbody>\n",
       "    <tr>\n",
       "      <th>0</th>\n",
       "      <td>Greek Chicken Skewers</td>\n",
       "      <td>4</td>\n",
       "      <td>20 mins</td>\n",
       "      <td>20 mins</td>\n",
       "      <td>2 hrs</td>\n",
       "      <td>2 hrs 40 mins</td>\n",
       "      <td>[¼ cup lemon juice, ¼ cup wok oil, ⅛ cup red w...</td>\n",
       "      <td>[Whisk lemon juice, oil, vinegar, onion flakes...</td>\n",
       "      <td>2</td>\n",
       "      <td>https://imagesvc.meredithcorp.io/v3/mm/image?u...</td>\n",
       "    </tr>\n",
       "    <tr>\n",
       "      <th>1</th>\n",
       "      <td>World's Best Lasagna</td>\n",
       "      <td>12</td>\n",
       "      <td>2 hrs 30 mins</td>\n",
       "      <td>30 mins</td>\n",
       "      <td>15 mins</td>\n",
       "      <td>3 hrs 15 mins</td>\n",
       "      <td>[1 pound sweet Italian sausage, ¾ pound lean g...</td>\n",
       "      <td>[In a Dutch oven, cook sausage, ground beef, o...</td>\n",
       "      <td>2</td>\n",
       "      <td>https://imagesvc.meredithcorp.io/v3/mm/image?u...</td>\n",
       "    </tr>\n",
       "    <tr>\n",
       "      <th>2</th>\n",
       "      <td>Best Chocolate Chip Cookies</td>\n",
       "      <td>24</td>\n",
       "      <td>10 mins</td>\n",
       "      <td>20 mins</td>\n",
       "      <td>30 mins</td>\n",
       "      <td>1 hr</td>\n",
       "      <td>[1 cup butter, softened, 1 cup white sugar, 1 ...</td>\n",
       "      <td>[Preheat oven to 350 degrees F (175 degrees C)...</td>\n",
       "      <td>2</td>\n",
       "      <td>https://imagesvc.meredithcorp.io/v3/mm/image?u...</td>\n",
       "    </tr>\n",
       "    <tr>\n",
       "      <th>3</th>\n",
       "      <td>Fluffy Pancakes</td>\n",
       "      <td>4</td>\n",
       "      <td>10</td>\n",
       "      <td>10</td>\n",
       "      <td></td>\n",
       "      <td>25</td>\n",
       "      <td>[3/4 cup milk, 2 tablespoons white vinegar, 1 ...</td>\n",
       "      <td>[Combine milk with vinegar in a medium bowl an...</td>\n",
       "      <td>1</td>\n",
       "      <td>https://images.media-allrecipes.com/userphotos...</td>\n",
       "    </tr>\n",
       "    <tr>\n",
       "      <th>4</th>\n",
       "      <td>Good Old Fashioned Pancakes</td>\n",
       "      <td>8</td>\n",
       "      <td>15</td>\n",
       "      <td>5</td>\n",
       "      <td></td>\n",
       "      <td>20</td>\n",
       "      <td>[1 1/2 cups all-purpose flour, 3 1/2 teaspoons...</td>\n",
       "      <td>[In a large bowl, sift together the flour, bak...</td>\n",
       "      <td>1</td>\n",
       "      <td>https://images.media-allrecipes.com/userphotos...</td>\n",
       "    </tr>\n",
       "  </tbody>\n",
       "</table>\n",
       "</div>"
      ],
      "text/plain": [
       "                         title  servings      cook_time prep_time  \\\n",
       "0        Greek Chicken Skewers         4        20 mins   20 mins   \n",
       "1         World's Best Lasagna        12  2 hrs 30 mins   30 mins   \n",
       "2  Best Chocolate Chip Cookies        24        10 mins   20 mins   \n",
       "3              Fluffy Pancakes         4             10        10   \n",
       "4  Good Old Fashioned Pancakes         8             15         5   \n",
       "\n",
       "  additional_time     total_time  \\\n",
       "0           2 hrs  2 hrs 40 mins   \n",
       "1         15 mins  3 hrs 15 mins   \n",
       "2         30 mins           1 hr   \n",
       "3                             25   \n",
       "4                             20   \n",
       "\n",
       "                                         ingredients  \\\n",
       "0  [¼ cup lemon juice, ¼ cup wok oil, ⅛ cup red w...   \n",
       "1  [1 pound sweet Italian sausage, ¾ pound lean g...   \n",
       "2  [1 cup butter, softened, 1 cup white sugar, 1 ...   \n",
       "3  [3/4 cup milk, 2 tablespoons white vinegar, 1 ...   \n",
       "4  [1 1/2 cups all-purpose flour, 3 1/2 teaspoons...   \n",
       "\n",
       "                                              method  layout  \\\n",
       "0  [Whisk lemon juice, oil, vinegar, onion flakes...       2   \n",
       "1  [In a Dutch oven, cook sausage, ground beef, o...       2   \n",
       "2  [Preheat oven to 350 degrees F (175 degrees C)...       2   \n",
       "3  [Combine milk with vinegar in a medium bowl an...       1   \n",
       "4  [In a large bowl, sift together the flour, bak...       1   \n",
       "\n",
       "                                             picture  \n",
       "0  https://imagesvc.meredithcorp.io/v3/mm/image?u...  \n",
       "1  https://imagesvc.meredithcorp.io/v3/mm/image?u...  \n",
       "2  https://imagesvc.meredithcorp.io/v3/mm/image?u...  \n",
       "3  https://images.media-allrecipes.com/userphotos...  \n",
       "4  https://images.media-allrecipes.com/userphotos...  "
      ]
     },
     "execution_count": 4,
     "metadata": {},
     "output_type": "execute_result"
    }
   ],
   "source": [
    "#load json object into dataframe\n",
    "recipes = pd.read_json(r'recipes.json')\n",
    "\n",
    "# re-order columns\n",
    "recipes = recipes[['title', 'servings', 'cook_time', 'prep_time', 'additional_time', \n",
    "                   'total_time', 'ingredients', 'method', 'layout', 'picture']]\n",
    "recipes.head()"
   ]
  },
  {
   "cell_type": "markdown",
   "metadata": {},
   "source": [
    "### Analyzing Ingredients\n",
    "\n",
    "Let's look at the ingredients that compose each recipe a bit more closely.  First, we want to know what the most common ingredients are among our scraped recipes."
   ]
  },
  {
   "cell_type": "code",
   "execution_count": 5,
   "metadata": {},
   "outputs": [],
   "source": [
    "all_ingredients_list = []\n",
    "\n",
    "for row in recipes['ingredients']:\n",
    "    for ing in row:\n",
    "        all_ingredients_list.append(ing)"
   ]
  },
  {
   "cell_type": "code",
   "execution_count": 6,
   "metadata": {},
   "outputs": [
    {
     "data": {
      "text/html": [
       "<div>\n",
       "<style scoped>\n",
       "    .dataframe tbody tr th:only-of-type {\n",
       "        vertical-align: middle;\n",
       "    }\n",
       "\n",
       "    .dataframe tbody tr th {\n",
       "        vertical-align: top;\n",
       "    }\n",
       "\n",
       "    .dataframe thead th {\n",
       "        text-align: right;\n",
       "    }\n",
       "</style>\n",
       "<table border=\"1\" class=\"dataframe\">\n",
       "  <thead>\n",
       "    <tr style=\"text-align: right;\">\n",
       "      <th></th>\n",
       "      <th>ingredients</th>\n",
       "      <th>edited</th>\n",
       "    </tr>\n",
       "  </thead>\n",
       "  <tbody>\n",
       "    <tr>\n",
       "      <th>0</th>\n",
       "      <td>¼ cup lemon juice</td>\n",
       "      <td>¼ cup lemon juice</td>\n",
       "    </tr>\n",
       "    <tr>\n",
       "      <th>1</th>\n",
       "      <td>¼ cup wok oil</td>\n",
       "      <td>¼ cup wok oil</td>\n",
       "    </tr>\n",
       "    <tr>\n",
       "      <th>2</th>\n",
       "      <td>⅛ cup red wine vinegar</td>\n",
       "      <td>⅛ cup red wine vinegar</td>\n",
       "    </tr>\n",
       "    <tr>\n",
       "      <th>3</th>\n",
       "      <td>1 tablespoon onion flakes</td>\n",
       "      <td>1 tablespoon onion flakes</td>\n",
       "    </tr>\n",
       "    <tr>\n",
       "      <th>4</th>\n",
       "      <td>1 tablespoon minced garlic</td>\n",
       "      <td>1 tablespoon minced garlic</td>\n",
       "    </tr>\n",
       "  </tbody>\n",
       "</table>\n",
       "</div>"
      ],
      "text/plain": [
       "                  ingredients                      edited\n",
       "0           ¼ cup lemon juice           ¼ cup lemon juice\n",
       "1               ¼ cup wok oil               ¼ cup wok oil\n",
       "2      ⅛ cup red wine vinegar      ⅛ cup red wine vinegar\n",
       "3   1 tablespoon onion flakes   1 tablespoon onion flakes\n",
       "4  1 tablespoon minced garlic  1 tablespoon minced garlic"
      ]
     },
     "execution_count": 6,
     "metadata": {},
     "output_type": "execute_result"
    }
   ],
   "source": [
    "ingredients = pd.DataFrame(all_ingredients_list, columns=['ingredients'])\n",
    "ingredients['edited'] = ingredients['ingredients']\n",
    "ingredients.head()"
   ]
  },
  {
   "cell_type": "markdown",
   "metadata": {},
   "source": [
    "Now we attempt to clean the ingredients list to get rid of the 'noise' and have a raw list of ingredient names without units, numbers or descriptors."
   ]
  },
  {
   "cell_type": "code",
   "execution_count": 7,
   "metadata": {},
   "outputs": [
    {
     "data": {
      "text/html": [
       "<div>\n",
       "<style scoped>\n",
       "    .dataframe tbody tr th:only-of-type {\n",
       "        vertical-align: middle;\n",
       "    }\n",
       "\n",
       "    .dataframe tbody tr th {\n",
       "        vertical-align: top;\n",
       "    }\n",
       "\n",
       "    .dataframe thead th {\n",
       "        text-align: right;\n",
       "    }\n",
       "</style>\n",
       "<table border=\"1\" class=\"dataframe\">\n",
       "  <thead>\n",
       "    <tr style=\"text-align: right;\">\n",
       "      <th></th>\n",
       "      <th>ingredients</th>\n",
       "      <th>edited</th>\n",
       "    </tr>\n",
       "  </thead>\n",
       "  <tbody>\n",
       "    <tr>\n",
       "      <th>0</th>\n",
       "      <td>¼ cup lemon juice</td>\n",
       "      <td>lemon juice</td>\n",
       "    </tr>\n",
       "    <tr>\n",
       "      <th>1</th>\n",
       "      <td>¼ cup wok oil</td>\n",
       "      <td>wok oil</td>\n",
       "    </tr>\n",
       "    <tr>\n",
       "      <th>2</th>\n",
       "      <td>⅛ cup red wine vinegar</td>\n",
       "      <td>red wine vinegar</td>\n",
       "    </tr>\n",
       "    <tr>\n",
       "      <th>3</th>\n",
       "      <td>1 tablespoon onion flakes</td>\n",
       "      <td>onion flakes</td>\n",
       "    </tr>\n",
       "    <tr>\n",
       "      <th>4</th>\n",
       "      <td>1 tablespoon minced garlic</td>\n",
       "      <td>minced garlic</td>\n",
       "    </tr>\n",
       "  </tbody>\n",
       "</table>\n",
       "</div>"
      ],
      "text/plain": [
       "                  ingredients            edited\n",
       "0           ¼ cup lemon juice       lemon juice\n",
       "1               ¼ cup wok oil           wok oil\n",
       "2      ⅛ cup red wine vinegar  red wine vinegar\n",
       "3   1 tablespoon onion flakes      onion flakes\n",
       "4  1 tablespoon minced garlic     minced garlic"
      ]
     },
     "execution_count": 7,
     "metadata": {},
     "output_type": "execute_result"
    }
   ],
   "source": [
    "# lists of common measuring and descriptive words we want to remove\n",
    "units = ['gallon','quart','pint','cup','teaspoon','tablespoon','ounce','pound','can','pinch','serving','slice','package','bottle']\n",
    "descriptors = ['small','medium','large']\n",
    "\n",
    "# remove common measuring and descriptive words\n",
    "for word in units + descriptors:\n",
    "    plural = word+\"s\"\n",
    "    ingredients['edited'] = ingredients['edited'].str.replace(' '+plural+' ', ' ')\n",
    "    ingredients['edited'] = ingredients['edited'].str.replace(' '+word+' ','')\n",
    "\n",
    "#remove common leading descriptors\n",
    "ingredients['edited'] = ingredients['edited'].str.replace('boneless,','')\n",
    "ingredients['edited'] = ingredients['edited'].str.replace('skinless,','')\n",
    "ingredients['edited'] = ingredients['edited'].str.replace('boneless','')\n",
    "ingredients['edited'] = ingredients['edited'].str.replace('skinless','')\n",
    "    \n",
    "# remove parantheicals\n",
    "ingredients['edited'] = ingredients['edited'].str.replace(r'\\([^()]*\\)','')\n",
    "# remove text after commas and hyphens\n",
    "ingredients['edited'] = ingredients['edited'].str.partition(',')\n",
    "ingredients['edited'] = ingredients['edited'].str.partition(',')\n",
    "# remove non-alphabetical characters\n",
    "ingredients['edited'] = ingredients['edited'].str.replace('[^a-zA-Z]', ' ')\n",
    "\n",
    "# edit down extra spaces caused by adjacent removals\n",
    "ingredients['edited'] = ingredients['edited'].str.strip()\n",
    "\n",
    "#fix other miscellaneous common errors\n",
    "ingredients['edited'] = ingredients['edited'].str.replace('eggs','egg')\n",
    "\n",
    "ingredients.head()"
   ]
  },
  {
   "cell_type": "markdown",
   "metadata": {},
   "source": [
    "From here we can investigate which ingredients are the most common.  First, we see which edited rows appear most commonly with a call to .value_counts()"
   ]
  },
  {
   "cell_type": "code",
   "execution_count": 8,
   "metadata": {},
   "outputs": [
    {
     "data": {
      "image/png": "[encoded data removed]",
      "text/plain": [
       "<Figure size 720x720 with 1 Axes>"
      ]
     },
     "metadata": {
      "needs_background": "light"
     },
     "output_type": "display_data"
    }
   ],
   "source": [
    "fig, ax = plt.subplots(figsize = (10,10))\n",
    "\n",
    "n = 50\n",
    "bar_positions = np.arange(n)\n",
    "bar_heights = ingredients['edited'].value_counts().head(n)\n",
    "bar_names = ingredients['edited'].value_counts().head(n).index\n",
    "\n",
    "ax.barh(bar_positions, bar_heights, 0.5)\n",
    "ax.set_yticks(bar_positions)\n",
    "ax.set_yticklabels(bar_names)\n",
    "ax.set_title('Most Common Ingredients (' + str(recipes.shape[0]) + ' Allrecipes.com Recipes)')\n",
    "ax.set_ylabel('Ingredients')\n",
    "ax.set_xlabel('Frequency')\n",
    "ax.invert_yaxis()\n",
    "plt.show()"
   ]
  },
  {
   "cell_type": "markdown",
   "metadata": {},
   "source": [
    "### Analyzing Servings\n",
    "\n",
    "Each recipe has a listed servings amount.  These are stored as integer values already, so should be simple to visualize."
   ]
  },
  {
   "cell_type": "code",
   "execution_count": 9,
   "metadata": {
    "scrolled": false
   },
   "outputs": [
    {
     "data": {
      "image/png": "[encoded data removed]",
      "text/plain": [
       "<Figure size 576x576 with 2 Axes>"
      ]
     },
     "metadata": {
      "needs_background": "light"
     },
     "output_type": "display_data"
    }
   ],
   "source": [
    "fig = plt.figure(figsize=(8,8))\n",
    "ax1 = fig.add_subplot(2, 1, 1)\n",
    "ax2 = fig.add_subplot(2, 1, 2)\n",
    "\n",
    "max = 40\n",
    "tick_values = 2 * np.arange(int(max/2))\n",
    "tick_positions = tick_values + 0.5\n",
    "\n",
    "ax1.hist(recipes['servings'], bins=max, range=(0,max))\n",
    "ax1.set_title('Distribution of Serving Sizes (' + str(recipes.shape[0]) + ' Allrecipes.com Recipes)')\n",
    "ax1.set_xticklabels(tick_values)\n",
    "ax1.set_xticks(tick_positions)\n",
    "ax1.set_xlabel('Number of Servings')\n",
    "ax1.set_ylabel('Frequency')\n",
    "\n",
    "ax2.boxplot(recipes['servings'], vert=False, sym='')\n",
    "ax2.set_xlim(0,max)\n",
    "ax2.set_xticklabels(tick_values)\n",
    "ax2.set_xticks(tick_positions)\n",
    "ax2.set_yticks([])\n",
    "ax2.set_xlabel('Number of Servings')\n",
    "\n",
    "plt.show()"
   ]
  },
  {
   "cell_type": "markdown",
   "metadata": {},
   "source": [
    "So, we notice that the number of servings has a skewed right distribution, with the mode at 6 servings.  We also see that common breakpoint values seem to favored, such as 4, 6, 8, 12, 16, 24, and 36.  The most common values are 6, 8, 4, and 12."
   ]
  },
  {
   "cell_type": "markdown",
   "metadata": {},
   "source": [
    "### Analyzing Cooking, Prep, and Total Time\n",
    "\n",
    "All of the scraped recipes have columns for Prep Time, Cook Time, Additional Time, and Total Time.  Some of these values are blank, and all are stored as string objects.  Some strings have units attached and others do not, so we will need to do some cleaning to get them all to numerical values."
   ]
  },
  {
   "cell_type": "code",
   "execution_count": 10,
   "metadata": {},
   "outputs": [
    {
     "data": {
      "text/html": [
       "<div>\n",
       "<style scoped>\n",
       "    .dataframe tbody tr th:only-of-type {\n",
       "        vertical-align: middle;\n",
       "    }\n",
       "\n",
       "    .dataframe tbody tr th {\n",
       "        vertical-align: top;\n",
       "    }\n",
       "\n",
       "    .dataframe thead th {\n",
       "        text-align: right;\n",
       "    }\n",
       "</style>\n",
       "<table border=\"1\" class=\"dataframe\">\n",
       "  <thead>\n",
       "    <tr style=\"text-align: right;\">\n",
       "      <th></th>\n",
       "      <th>cook_time</th>\n",
       "      <th>prep_time</th>\n",
       "      <th>additional_time</th>\n",
       "      <th>total_time</th>\n",
       "    </tr>\n",
       "  </thead>\n",
       "  <tbody>\n",
       "    <tr>\n",
       "      <th>0</th>\n",
       "      <td>20 mins</td>\n",
       "      <td>20 mins</td>\n",
       "      <td>2 hrs</td>\n",
       "      <td>2 hrs 40 mins</td>\n",
       "    </tr>\n",
       "    <tr>\n",
       "      <th>1</th>\n",
       "      <td>2 hrs 30 mins</td>\n",
       "      <td>30 mins</td>\n",
       "      <td>15 mins</td>\n",
       "      <td>3 hrs 15 mins</td>\n",
       "    </tr>\n",
       "    <tr>\n",
       "      <th>2</th>\n",
       "      <td>10 mins</td>\n",
       "      <td>20 mins</td>\n",
       "      <td>30 mins</td>\n",
       "      <td>1 hr</td>\n",
       "    </tr>\n",
       "    <tr>\n",
       "      <th>3</th>\n",
       "      <td>10</td>\n",
       "      <td>10</td>\n",
       "      <td></td>\n",
       "      <td>25</td>\n",
       "    </tr>\n",
       "    <tr>\n",
       "      <th>4</th>\n",
       "      <td>15</td>\n",
       "      <td>5</td>\n",
       "      <td></td>\n",
       "      <td>20</td>\n",
       "    </tr>\n",
       "    <tr>\n",
       "      <th>5</th>\n",
       "      <td>1 hr 5 mins</td>\n",
       "      <td>15 mins</td>\n",
       "      <td></td>\n",
       "      <td>1 hr 20 mins</td>\n",
       "    </tr>\n",
       "    <tr>\n",
       "      <th>6</th>\n",
       "      <td>1 hr</td>\n",
       "      <td>30 mins</td>\n",
       "      <td></td>\n",
       "      <td>1 hr 30 mins</td>\n",
       "    </tr>\n",
       "    <tr>\n",
       "      <th>7</th>\n",
       "      <td>25</td>\n",
       "      <td>20</td>\n",
       "      <td></td>\n",
       "      <td>45</td>\n",
       "    </tr>\n",
       "    <tr>\n",
       "      <th>8</th>\n",
       "      <td>20 mins</td>\n",
       "      <td>15 mins</td>\n",
       "      <td></td>\n",
       "      <td>35 mins</td>\n",
       "    </tr>\n",
       "    <tr>\n",
       "      <th>9</th>\n",
       "      <td>25 mins</td>\n",
       "      <td>15 mins</td>\n",
       "      <td></td>\n",
       "      <td>40 mins</td>\n",
       "    </tr>\n",
       "  </tbody>\n",
       "</table>\n",
       "</div>"
      ],
      "text/plain": [
       "       cook_time prep_time additional_time     total_time\n",
       "0        20 mins   20 mins           2 hrs  2 hrs 40 mins\n",
       "1  2 hrs 30 mins   30 mins         15 mins  3 hrs 15 mins\n",
       "2        10 mins   20 mins         30 mins           1 hr\n",
       "3             10        10                             25\n",
       "4             15         5                             20\n",
       "5    1 hr 5 mins   15 mins                   1 hr 20 mins\n",
       "6           1 hr   30 mins                   1 hr 30 mins\n",
       "7             25        20                             45\n",
       "8        20 mins   15 mins                        35 mins\n",
       "9        25 mins   15 mins                        40 mins"
      ]
     },
     "execution_count": 10,
     "metadata": {},
     "output_type": "execute_result"
    }
   ],
   "source": [
    "time_columns = ['cook_time','prep_time','additional_time','total_time']\n",
    "recipes[time_columns].head(10)"
   ]
  },
  {
   "cell_type": "code",
   "execution_count": 11,
   "metadata": {},
   "outputs": [
    {
     "data": {
      "text/html": [
       "<div>\n",
       "<style scoped>\n",
       "    .dataframe tbody tr th:only-of-type {\n",
       "        vertical-align: middle;\n",
       "    }\n",
       "\n",
       "    .dataframe tbody tr th {\n",
       "        vertical-align: top;\n",
       "    }\n",
       "\n",
       "    .dataframe thead th {\n",
       "        text-align: right;\n",
       "    }\n",
       "</style>\n",
       "<table border=\"1\" class=\"dataframe\">\n",
       "  <thead>\n",
       "    <tr style=\"text-align: right;\">\n",
       "      <th></th>\n",
       "      <th>cook_time</th>\n",
       "      <th>prep_time</th>\n",
       "      <th>additional_time</th>\n",
       "      <th>total_time</th>\n",
       "    </tr>\n",
       "  </thead>\n",
       "  <tbody>\n",
       "    <tr>\n",
       "      <th>0</th>\n",
       "      <td>0.333333</td>\n",
       "      <td>0.333333</td>\n",
       "      <td>2.00</td>\n",
       "      <td>2.666667</td>\n",
       "    </tr>\n",
       "    <tr>\n",
       "      <th>1</th>\n",
       "      <td>2.500000</td>\n",
       "      <td>0.500000</td>\n",
       "      <td>0.25</td>\n",
       "      <td>3.250000</td>\n",
       "    </tr>\n",
       "    <tr>\n",
       "      <th>2</th>\n",
       "      <td>0.166667</td>\n",
       "      <td>0.333333</td>\n",
       "      <td>0.50</td>\n",
       "      <td>1.000000</td>\n",
       "    </tr>\n",
       "    <tr>\n",
       "      <th>3</th>\n",
       "      <td>0.166667</td>\n",
       "      <td>0.166667</td>\n",
       "      <td>0.00</td>\n",
       "      <td>0.416667</td>\n",
       "    </tr>\n",
       "    <tr>\n",
       "      <th>4</th>\n",
       "      <td>0.250000</td>\n",
       "      <td>0.083333</td>\n",
       "      <td>0.00</td>\n",
       "      <td>0.333333</td>\n",
       "    </tr>\n",
       "    <tr>\n",
       "      <th>5</th>\n",
       "      <td>1.083333</td>\n",
       "      <td>0.250000</td>\n",
       "      <td>0.00</td>\n",
       "      <td>1.333333</td>\n",
       "    </tr>\n",
       "    <tr>\n",
       "      <th>6</th>\n",
       "      <td>1.000000</td>\n",
       "      <td>0.500000</td>\n",
       "      <td>0.00</td>\n",
       "      <td>1.500000</td>\n",
       "    </tr>\n",
       "    <tr>\n",
       "      <th>7</th>\n",
       "      <td>0.416667</td>\n",
       "      <td>0.333333</td>\n",
       "      <td>0.00</td>\n",
       "      <td>0.750000</td>\n",
       "    </tr>\n",
       "    <tr>\n",
       "      <th>8</th>\n",
       "      <td>0.333333</td>\n",
       "      <td>0.250000</td>\n",
       "      <td>0.00</td>\n",
       "      <td>0.583333</td>\n",
       "    </tr>\n",
       "    <tr>\n",
       "      <th>9</th>\n",
       "      <td>0.416667</td>\n",
       "      <td>0.250000</td>\n",
       "      <td>0.00</td>\n",
       "      <td>0.666667</td>\n",
       "    </tr>\n",
       "  </tbody>\n",
       "</table>\n",
       "</div>"
      ],
      "text/plain": [
       "   cook_time  prep_time  additional_time  total_time\n",
       "0   0.333333   0.333333             2.00    2.666667\n",
       "1   2.500000   0.500000             0.25    3.250000\n",
       "2   0.166667   0.333333             0.50    1.000000\n",
       "3   0.166667   0.166667             0.00    0.416667\n",
       "4   0.250000   0.083333             0.00    0.333333\n",
       "5   1.083333   0.250000             0.00    1.333333\n",
       "6   1.000000   0.500000             0.00    1.500000\n",
       "7   0.416667   0.333333             0.00    0.750000\n",
       "8   0.333333   0.250000             0.00    0.583333\n",
       "9   0.416667   0.250000             0.00    0.666667"
      ]
     },
     "execution_count": 11,
     "metadata": {},
     "output_type": "execute_result"
    }
   ],
   "source": [
    "# convert string values to floats\n",
    "for column in time_columns:\n",
    "    new_column = []\n",
    "    for row in recipes[column]:\n",
    "        hrs_mins = []  # list containing [hours, minutes]\n",
    "\n",
    "        if 'day' in row:\n",
    "            num_days = re.split('days|day', row)[0]\n",
    "            row = str(int(num_days)*24) + ' hrs'\n",
    "            \n",
    "        if 'hr' in row:\n",
    "            hrs_mins = re.split('hrs|hr',row)\n",
    "            hrs_mins[1] = hrs_mins[1].replace('mins','')\n",
    "            hrs_mins[1] = hrs_mins[1].replace('min','')\n",
    "        else:\n",
    "            row = row.replace('mins','')\n",
    "            row = row.replace('min','')\n",
    "            hrs_mins = [0,row]\n",
    "        \n",
    "        if hrs_mins[1] == '':\n",
    "            hrs_mins[1] = 0\n",
    "            \n",
    "        num_value = float(hrs_mins[0]) + (float(hrs_mins[1]) / 60)\n",
    "        new_column.append(num_value)\n",
    "        \n",
    "    recipes[column] = new_column\n",
    "    \n",
    "recipes[time_columns].head(10)"
   ]
  },
  {
   "cell_type": "markdown",
   "metadata": {},
   "source": [
    "Although we converted the 'additional_time' column to a float as well, we will not look at it in our analysis below.  The reason for this is there are many inconsistencies where the columns do not add up to the total. Rather than evaluate which column is the issue in each case, we will simply toss out the additional time column, as it is not important to our analysis."
   ]
  },
  {
   "cell_type": "code",
   "execution_count": 12,
   "metadata": {},
   "outputs": [
    {
     "data": {
      "image/png": "[encoded data removed]",
      "text/plain": [
       "<Figure size 432x288 with 3 Axes>"
      ]
     },
     "metadata": {
      "needs_background": "light"
     },
     "output_type": "display_data"
    }
   ],
   "source": [
    "fig = plt.figure()\n",
    "fig.suptitle('Distribution of Recipe Times')\n",
    "ax1 = fig.add_subplot(1,3,1)\n",
    "ax2 = fig.add_subplot(1,3,2)\n",
    "ax3 = fig.add_subplot(1,3,3)\n",
    "\n",
    "min = -.1\n",
    "max = 3\n",
    "\n",
    "ax1.boxplot(recipes['prep_time'],sym='')\n",
    "ax1.set_ylim((min, max))\n",
    "ax1.set_xticklabels([])\n",
    "ax1.set_ylabel('Time, hours')\n",
    "ax1.set_title(\"Prep Time\")\n",
    "\n",
    "ax2.boxplot(recipes['cook_time'],sym='')\n",
    "ax2.set_ylim((min, max))\n",
    "ax2.set_yticklabels([])\n",
    "ax2.set_xticklabels([])\n",
    "ax2.set_title(\"Cook Time\")\n",
    "\n",
    "ax3.boxplot(recipes['total_time'],sym='')\n",
    "ax3.set_ylim((min, max))\n",
    "ax3.set_yticklabels([])\n",
    "ax3.set_xticklabels([])\n",
    "ax3.set_title(\"Total Time\")\n",
    "\n",
    "plt.show()"
   ]
  },
  {
   "cell_type": "markdown",
   "metadata": {},
   "source": [
    "Here, we can see boxplots of the time it takes for each of prepping, cooking, and the total time for each recipe."
   ]
  },
  {
   "cell_type": "markdown",
   "metadata": {},
   "source": [
    "### Analyzing Titles\n",
    "\n",
    "We can look through the titles of each recipe to find common trends among all of them."
   ]
  },
  {
   "cell_type": "code",
   "execution_count": 13,
   "metadata": {},
   "outputs": [],
   "source": [
    "title_words_list = []\n",
    "for row in recipes['title']:\n",
    "    for word in row.split(' '):\n",
    "        word = re.sub('[^a-zA-Z]', '', word)\n",
    "        \n",
    "        title_words_list.append(word)\n",
    "        \n",
    "title_words = pd.DataFrame(title_words_list, columns = ['words'])"
   ]
  },
  {
   "cell_type": "code",
   "execution_count": 14,
   "metadata": {
    "scrolled": false
   },
   "outputs": [
    {
     "data": {
      "image/png": "[encoded data removed]",
      "text/plain": [
       "<Figure size 720x720 with 1 Axes>"
      ]
     },
     "metadata": {
      "needs_background": "light"
     },
     "output_type": "display_data"
    }
   ],
   "source": [
    "fig, ax = plt.subplots(figsize = (10,10))\n",
    "\n",
    "n = 50\n",
    "bar_positions = np.arange(n)\n",
    "bar_heights = title_words['words'].value_counts().head(n)\n",
    "bar_names = title_words['words'].value_counts().head(n).index\n",
    "\n",
    "ax.barh(bar_positions, bar_heights, 0.5)\n",
    "ax.set_yticks(bar_positions)\n",
    "ax.set_yticklabels(bar_names)\n",
    "ax.set_title('Most Common Title Words (' + str(recipes.shape[0]) + ' Allrecipes.com Recipes)')\n",
    "ax.set_ylabel('Title Words')\n",
    "ax.set_xlabel('Frequency')\n",
    "ax.invert_yaxis()\n",
    "plt.show()"
   ]
  },
  {
   "cell_type": "markdown",
   "metadata": {},
   "source": [
    "### Instruction  Analysis\n",
    "\n",
    "Next we want to analyze the most common 'cooking verbs' used in recipe instructions.  However, we don't have a good way to extract specifically cooking verbs from the instruction strings.  So, we will first extract the most common verbs manually with a fixed dataset, and then count the instances of those in future sets.  This process is certainly imperfect, but since we don't have a filter to determine cooking verbs from other types of words, this will be our approach."
   ]
  },
  {
   "cell_type": "code",
   "execution_count": 15,
   "metadata": {},
   "outputs": [],
   "source": [
    "words_list = []\n",
    "for method in recipes['method']:\n",
    "    for instruction in method:\n",
    "        words = instruction.split(' ')\n",
    "        for word in words:\n",
    "            word = re.sub('[^a-zA-Z]', '', word).lower()\n",
    "            words_list.append(word)"
   ]
  },
  {
   "cell_type": "code",
   "execution_count": 16,
   "metadata": {},
   "outputs": [],
   "source": [
    "method_words = pd.DataFrame(words_list, columns =['words'])"
   ]
  },
  {
   "cell_type": "markdown",
   "metadata": {},
   "source": [
    "By manually searching through the top 100 words collected, we compiled the list below, saved as 'words_to_include'.  We then re-build the words list using only these words."
   ]
  },
  {
   "cell_type": "code",
   "execution_count": 17,
   "metadata": {},
   "outputs": [],
   "source": [
    "words_to_include = ['stir','cook','mix','place','add','bake','preheat','pour','cover','combine','remove','boil','cool','bring','simmer','set','sprinkle','beat','serve','drain','let']\n",
    "words_list_limited = []\n",
    "for method in recipes['method']:\n",
    "    for instruction in method:\n",
    "        words = instruction.split(' ')\n",
    "        for word in words:\n",
    "            word = re.sub('[^a-zA-Z]', '', word).lower().strip()\n",
    "            \n",
    "            if word in words_to_include:\n",
    "                words_list_limited.append(word)\n",
    "            \n",
    "method_words_limited = pd.DataFrame(words_list_limited, columns =['words'])"
   ]
  },
  {
   "cell_type": "code",
   "execution_count": 18,
   "metadata": {},
   "outputs": [
    {
     "data": {
      "image/png": "[encoded data removed]",
      "text/plain": [
       "<Figure size 720x720 with 1 Axes>"
      ]
     },
     "metadata": {
      "needs_background": "light"
     },
     "output_type": "display_data"
    }
   ],
   "source": [
    "fig, ax = plt.subplots(figsize = (10,10))\n",
    "\n",
    "n = len(method_words_limited['words'].value_counts())\n",
    "bar_positions = np.arange(n)\n",
    "bar_heights = method_words_limited['words'].value_counts().head(n)\n",
    "bar_names = method_words_limited['words'].value_counts().head(n).index\n",
    "\n",
    "ax.barh(bar_positions, bar_heights, 0.5)\n",
    "ax.set_yticks(bar_positions)\n",
    "ax.set_yticklabels(bar_names)\n",
    "ax.set_title('Count of Common Instruction Words (' + str(recipes.shape[0]) + ' Allrecipes.com Recipes)')\n",
    "ax.set_ylabel('Instruction Words')\n",
    "ax.set_xlabel('Frequency')\n",
    "ax.invert_yaxis()\n",
    "plt.show()"
   ]
  },
  {
   "cell_type": "code",
   "execution_count": null,
   "metadata": {},
   "outputs": [],
   "source": []
  },
  {
   "cell_type": "code",
   "execution_count": null,
   "metadata": {},
   "outputs": [],
   "source": []
  }
 ],
 "metadata": {
  "kernelspec": {
   "display_name": "Python 3",
   "language": "python",
   "name": "python3"
  },
  "language_info": {
   "codemirror_mode": {
    "name": "ipython",
    "version": 3
   },
   "file_extension": ".py",
   "mimetype": "text/x-python",
   "name": "python",
   "nbconvert_exporter": "python",
   "pygments_lexer": "ipython3",
   "version": "3.7.3"
  }
 },
 "nbformat": 4,
 "nbformat_minor": 2
}
