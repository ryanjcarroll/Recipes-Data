{
 "cells": [
  {
   "cell_type": "code",
   "execution_count": 122,
   "metadata": {},
   "outputs": [],
   "source": [
    "import numpy as np\n",
    "import pandas as pd\n",
    "import json\n",
    "import requests\n",
    "import bs4\n",
    "from bs4 import BeautifulSoup as bs"
   ]
  },
  {
   "cell_type": "markdown",
   "metadata": {},
   "source": [
    "# Web Scraping from Allrecipes\n",
    "\n",
    "In order to compile a dataset of recipes for this project, we will first need to use web scraping and build a JSON object.  For this, we will send requests to www.allrecipes.com and parse their recipe cards."
   ]
  },
  {
   "cell_type": "code",
   "execution_count": 126,
   "metadata": {},
   "outputs": [],
   "source": [
    "# set how many pages to scrape recipes from\n",
    "first_page = 1\n",
    "last_page = 1"
   ]
  },
  {
   "cell_type": "code",
   "execution_count": 136,
   "metadata": {},
   "outputs": [],
   "source": [
    "# create empty json file to store recipe data\n",
    "data = []\n",
    "with open('recipes.json','w') as out_file:\n",
    "    json.dump(data, out_file, indent=4)"
   ]
  },
  {
   "cell_type": "code",
   "execution_count": 131,
   "metadata": {},
   "outputs": [],
   "source": [
    "def save_to_json(title, picture, ingredients, method):\n",
    "    with open('recipes.json') as in_file:\n",
    "        data = json.load(in_file)\n",
    "    \n",
    "    # if this recipe title already exists in the data, do not add it again\n",
    "    already_exists = False\n",
    "    for recipe in data:\n",
    "        if recipe['title'] == title:\n",
    "            already_exists = True\n",
    "    \n",
    "    # if a new recipe, append to the json object and dump back to the file\n",
    "    if not already_exists:\n",
    "        new_recipe = {}\n",
    "        new_recipe['title'] = title\n",
    "        new_recipe['picture'] = picture\n",
    "        new_recipe['ingredients'] = ingredients\n",
    "        new_recipe['method'] = method\n",
    "\n",
    "        data.append(new_recipe)\n",
    "    \n",
    "        with open('recipes.json', 'w') as out_file:\n",
    "            json.dump(data, out_file, indent=4)"
   ]
  },
  {
   "cell_type": "markdown",
   "metadata": {},
   "source": [
    "Note that allrecipes has two different HTML layouts for their recipe pages, so if the title element we search for is set to 'None', we have to instead look for the elements where they would be in the second layout."
   ]
  },
  {
   "cell_type": "code",
   "execution_count": 135,
   "metadata": {},
   "outputs": [
    {
     "name": "stdout",
     "output_type": "stream",
     "text": [
      "PARSING PAGE 1\n",
      "Saved: Curry Salmon with Mango\n",
      "Saved: Cake Mix Cinnamon Rolls\n",
      "Saved: Slow Cooker Creamy Chicken Taco Soup\n",
      "Saved: Simple Tomato Soup\n",
      "Saved: Two-Ingredient Pizza Dough\n",
      "Saved: Best Chocolate Chip Cookies\n",
      "Saved: Janet's Rich Banana Bread\n",
      "Saved: Creamed Eggs on Toast\n",
      "Saved: World's Best Lasagna\n",
      "Saved: Good Old Fashioned Pancakes\n",
      "Saved: To-Die-For Chicken Pot Pie\n",
      "Saved: Pantry Chicken Casserole\n",
      "Saved: Slow Cooker Barbecue Chicken Breast\n",
      "Saved: Island Kielbasa in a Slow Cooker\n",
      "Saved: Best Brownies\n",
      "Saved: Banana Banana Bread\n",
      "Saved: Shrimp and Sugar Snap Peas\n",
      "Saved: Easy Korean Ground Beef Bowl\n",
      "Saved: Dill Pickle Soup\n",
      "Saved: Fluffy Pancakes\n"
     ]
    }
   ],
   "source": [
    "for page in range(first_page, last_page + 1):\n",
    "    # request the main allrecipes page which lists the top recipes\n",
    "    source = requests.get(\"https://www.allrecipes.com?page=\" + str(page))\n",
    "    print(\"PARSING PAGE {}\".format(page))\n",
    "    doc = bs(source.text,'html.parser')\n",
    "    \n",
    "    # find each recipe linked on the main page, and open their links one by one\n",
    "    recipe_cards = doc.select('a.fixed-recipe-card__title-link')\n",
    "    for card in recipe_cards:\n",
    "        recipe_page_source = requests.get(card['href'])        \n",
    "        recipe_main = bs(recipe_page_source.text,'html.parser')\n",
    "        \n",
    "        # search for the title, picture, ingredients, and method elements\n",
    "        title = recipe_main.select_one('.recipe-summary__h1')\n",
    "        if title is not None:\n",
    "             #for primary formatting layout\n",
    "            picture = recipe_main.select_one('.rec-photo')\n",
    "            ingredients = recipe_main.select('.recipe-ingred_txt')\n",
    "            method = recipe_main.select('.recipe-directions__list--item')\n",
    "        # if the title is 'None', then the page must be in the second layout\n",
    "        else: \n",
    "            # for secondary formatting layout\n",
    "            title = recipe_main.select_one('h1.headline.heading-content')\n",
    "            picture = recipe_main.select_one('.inner-container > img')\n",
    "            ingredients = recipe_main.select('span.ingredients-item-name')\n",
    "            method = recipe_main.select('div.section-body > p')\n",
    "        \n",
    "        # compile a list of ingredients for the current recipe\n",
    "        ingredients_list = []\n",
    "        for ingredient in ingredients:\n",
    "            ingredients_list.append(ingredient.text.strip())\n",
    "            \n",
    "        # compile a list of method instructions for the current recipe\n",
    "        method_list = []\n",
    "        for instruction in method:\n",
    "            method_list.append(instruction.text.strip())\n",
    "\n",
    "        # save all data for the current recipe to the json file\n",
    "        save_to_json(title.text, picture.attrs['src'], ingredients_list, method_list)\n",
    "        print(\"Saved: {}\".format(title.text))"
   ]
  },
  {
   "cell_type": "code",
   "execution_count": null,
   "metadata": {},
   "outputs": [],
   "source": []
  },
  {
   "cell_type": "code",
   "execution_count": null,
   "metadata": {},
   "outputs": [],
   "source": []
  }
 ],
 "metadata": {
  "kernelspec": {
   "display_name": "Python 3",
   "language": "python",
   "name": "python3"
  },
  "language_info": {
   "codemirror_mode": {
    "name": "ipython",
    "version": 3
   },
   "file_extension": ".py",
   "mimetype": "text/x-python",
   "name": "python",
   "nbconvert_exporter": "python",
   "pygments_lexer": "ipython3",
   "version": "3.7.3"
  }
 },
 "nbformat": 4,
 "nbformat_minor": 2
}
