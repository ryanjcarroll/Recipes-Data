{
 "cells": [
  {
   "cell_type": "code",
   "execution_count": 31,
   "metadata": {},
   "outputs": [],
   "source": [
    "import numpy as np\n",
    "import pandas as pd\n",
    "import json\n",
    "import requests\n",
    "import bs4\n",
    "from bs4 import BeautifulSoup as bs"
   ]
  },
  {
   "cell_type": "markdown",
   "metadata": {},
   "source": [
    "# Web Scraping from Allrecipes\n",
    "\n",
    "In order to compile a dataset of recipes for this project, we will first need to use web scraping and build a JSON object.  For this, we will send requests to www.allrecipes.com and parse their recipe cards."
   ]
  },
  {
   "cell_type": "code",
   "execution_count": 75,
   "metadata": {},
   "outputs": [],
   "source": [
    "# set how many pages to scrape recipes from\n",
    "first_page = 1\n",
    "last_page = 1"
   ]
  },
  {
   "cell_type": "code",
   "execution_count": 84,
   "metadata": {},
   "outputs": [],
   "source": [
    "def save_to_json(title, picture, ingredients, method):\n",
    "    with open('recipes.json','r') as in_file:\n",
    "        data = json.load(in_file)\n",
    "    \n",
    "    for recipe in data:\n",
    "        # if this recipe title already exists in the data, do not add it again\n",
    "        if recipe['title'] == title:\n",
    "            pass\n",
    "        else:\n",
    "            new_recipe = {}\n",
    "            new_recipe['title'] = title\n",
    "            new_recipe['picture'] = picture\n",
    "            new_recipe['ingredients'] = ingredients\n",
    "            new_recipe['method'] = method\n",
    "\n",
    "            data.update(new_recipe)\n",
    "    \n",
    "    with open('database.json', 'w') as out_file:\n",
    "        json.dump(data, out_file, indent=4)"
   ]
  },
  {
   "cell_type": "markdown",
   "metadata": {},
   "source": [
    "Note that allrecipes has two different HTML layouts for their recipe pages, so if the title element we search for is set to 'None', we have to instead look for the elements where they would be in the second layout."
   ]
  },
  {
   "cell_type": "code",
   "execution_count": 83,
   "metadata": {},
   "outputs": [
    {
     "ename": "AttributeError",
     "evalue": "'_io.TextIOWrapper' object has no attribute 'decode'",
     "output_type": "error",
     "traceback": [
      "\u001b[1;31m---------------------------------------------------------------------------\u001b[0m",
      "\u001b[1;31mAttributeError\u001b[0m                            Traceback (most recent call last)",
      "\u001b[1;32m<ipython-input-83-e1b23a794fac>\u001b[0m in \u001b[0;36m<module>\u001b[1;34m\u001b[0m\n\u001b[0;32m     36\u001b[0m \u001b[1;33m\u001b[0m\u001b[0m\n\u001b[0;32m     37\u001b[0m         \u001b[1;31m# save all data for the current recipe to the json file\u001b[0m\u001b[1;33m\u001b[0m\u001b[1;33m\u001b[0m\u001b[1;33m\u001b[0m\u001b[0m\n\u001b[1;32m---> 38\u001b[1;33m         \u001b[0msave_to_json\u001b[0m\u001b[1;33m(\u001b[0m\u001b[0mtitle\u001b[0m\u001b[1;33m.\u001b[0m\u001b[0mtext\u001b[0m\u001b[1;33m,\u001b[0m \u001b[0mpicture\u001b[0m\u001b[1;33m.\u001b[0m\u001b[0mattrs\u001b[0m\u001b[1;33m[\u001b[0m\u001b[1;34m'src'\u001b[0m\u001b[1;33m]\u001b[0m\u001b[1;33m,\u001b[0m \u001b[0mingredients_list\u001b[0m\u001b[1;33m,\u001b[0m \u001b[0mmethod_list\u001b[0m\u001b[1;33m)\u001b[0m\u001b[1;33m\u001b[0m\u001b[1;33m\u001b[0m\u001b[0m\n\u001b[0m",
      "\u001b[1;32m<ipython-input-82-da4072b5a2c6>\u001b[0m in \u001b[0;36msave_to_json\u001b[1;34m(title, picture, ingredients, method)\u001b[0m\n\u001b[0;32m      1\u001b[0m \u001b[1;32mdef\u001b[0m \u001b[0msave_to_json\u001b[0m\u001b[1;33m(\u001b[0m\u001b[0mtitle\u001b[0m\u001b[1;33m,\u001b[0m \u001b[0mpicture\u001b[0m\u001b[1;33m,\u001b[0m \u001b[0mingredients\u001b[0m\u001b[1;33m,\u001b[0m \u001b[0mmethod\u001b[0m\u001b[1;33m)\u001b[0m\u001b[1;33m:\u001b[0m\u001b[1;33m\u001b[0m\u001b[1;33m\u001b[0m\u001b[0m\n\u001b[0;32m      2\u001b[0m     \u001b[1;32mwith\u001b[0m \u001b[0mopen\u001b[0m\u001b[1;33m(\u001b[0m\u001b[1;34m'recipes.json'\u001b[0m\u001b[1;33m,\u001b[0m\u001b[1;34m'r'\u001b[0m\u001b[1;33m)\u001b[0m \u001b[1;32mas\u001b[0m \u001b[0min_file\u001b[0m\u001b[1;33m:\u001b[0m\u001b[1;33m\u001b[0m\u001b[1;33m\u001b[0m\u001b[0m\n\u001b[1;32m----> 3\u001b[1;33m         \u001b[0mdata\u001b[0m \u001b[1;33m=\u001b[0m \u001b[0mjson\u001b[0m\u001b[1;33m.\u001b[0m\u001b[0mload\u001b[0m\u001b[1;33m(\u001b[0m\u001b[0min_file\u001b[0m\u001b[1;33m.\u001b[0m\u001b[0mdecode\u001b[0m\u001b[1;33m(\u001b[0m\u001b[1;34m'utf-8'\u001b[0m\u001b[1;33m)\u001b[0m\u001b[1;33m)\u001b[0m\u001b[1;33m\u001b[0m\u001b[1;33m\u001b[0m\u001b[0m\n\u001b[0m\u001b[0;32m      4\u001b[0m \u001b[1;33m\u001b[0m\u001b[0m\n\u001b[0;32m      5\u001b[0m     \u001b[1;32mfor\u001b[0m \u001b[0mrecipe\u001b[0m \u001b[1;32min\u001b[0m \u001b[0mdata\u001b[0m\u001b[1;33m:\u001b[0m\u001b[1;33m\u001b[0m\u001b[1;33m\u001b[0m\u001b[0m\n",
      "\u001b[1;31mAttributeError\u001b[0m: '_io.TextIOWrapper' object has no attribute 'decode'"
     ]
    }
   ],
   "source": [
    "for page in range(first_page, last_page + 1):\n",
    "    # request the main allrecipes page which lists the top recipes\n",
    "    source = requests.get(\"https://www.allrecipes.com?page=\" + str(page))\n",
    "    doc = bs(source.text,'html.parser')\n",
    "    \n",
    "    # find each recipe linked on the main page, and open their links one by one\n",
    "    recipe_cards = doc.select('a.fixed-recipe-card__title-link')\n",
    "    for card in recipe_cards:\n",
    "        recipe_page_source = requests.get(card['href'])        \n",
    "        recipe_main = bs(recipe_page_source.text,'html.parser')\n",
    "        \n",
    "        # search for the title, picture, ingredients, and method elements\n",
    "        title = recipe_main.select_one('.recipe-summary__h1')\n",
    "        if title is not None:\n",
    "             #for primary formatting layout\n",
    "            picture = recipe_main.select_one('.rec-photo')\n",
    "            ingredients = recipe_main.select('.recipe-ingred_txt')\n",
    "            method = recipe_main.select('.recipe-directions__list--item')\n",
    "        # if the title is 'None', then the page must be in the second layout\n",
    "        else: \n",
    "            # for secondary formatting layout\n",
    "            title = recipe_main.select_one('h1.headline.heading-content')\n",
    "            picture = recipe_main.select_one('.inner-container > img')\n",
    "            ingredients = recipe_main.select('span.ingredients-item-name')\n",
    "            method = recipe_main.select('div.section-body > p')\n",
    "           \n",
    "        # compile a list of ingredients for the current recipe\n",
    "        ingredients_list = []\n",
    "        for ingredient in ingredients:\n",
    "            ingredients_list.append(ingredient.text.strip())\n",
    "            \n",
    "        # compile a list of method instructions for the current recipe\n",
    "        method_list = []\n",
    "        for instruction in method:\n",
    "            method_list.append(instruction.text.strip())\n",
    "            \n",
    "        # save all data for the current recipe to the json file\n",
    "        save_to_json(title.text, picture.attrs['src'], ingredients_list, method_list)"
   ]
  },
  {
   "cell_type": "code",
   "execution_count": null,
   "metadata": {},
   "outputs": [],
   "source": []
  }
 ],
 "metadata": {
  "kernelspec": {
   "display_name": "Python 3",
   "language": "python",
   "name": "python3"
  },
  "language_info": {
   "codemirror_mode": {
    "name": "ipython",
    "version": 3
   },
   "file_extension": ".py",
   "mimetype": "text/x-python",
   "name": "python",
   "nbconvert_exporter": "python",
   "pygments_lexer": "ipython3",
   "version": "3.7.3"
  }
 },
 "nbformat": 4,
 "nbformat_minor": 2
}
