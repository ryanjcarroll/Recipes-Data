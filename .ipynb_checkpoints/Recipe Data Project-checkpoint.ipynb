{
 "cells": [
  {
   "cell_type": "code",
   "execution_count": 155,
   "metadata": {},
   "outputs": [],
   "source": [
    "import numpy as np\n",
    "import pandas as pd\n",
    "import json\n",
    "import requests\n",
    "import re\n",
    "import bs4\n",
    "from bs4 import BeautifulSoup as bs"
   ]
  },
  {
   "cell_type": "markdown",
   "metadata": {},
   "source": [
    "# Web Scraping from Allrecipes\n",
    "\n",
    "In order to compile a dataset of recipes for this project, we will first need to use web scraping and build a JSON object.  For this, we will send requests to www.allrecipes.com and parse their recipe cards."
   ]
  },
  {
   "cell_type": "code",
   "execution_count": 156,
   "metadata": {},
   "outputs": [],
   "source": [
    "# set how many pages to scrape recipes from\n",
    "first_page = 1\n",
    "last_page = 1"
   ]
  },
  {
   "cell_type": "code",
   "execution_count": 157,
   "metadata": {},
   "outputs": [],
   "source": [
    "# create empty json file to store recipe data\n",
    "data = []\n",
    "with open('recipes.json','w') as out_file:\n",
    "    json.dump(data, out_file, indent=4)"
   ]
  },
  {
   "cell_type": "code",
   "execution_count": 158,
   "metadata": {},
   "outputs": [],
   "source": [
    "def save_to_json(title, picture, ingredients, method):\n",
    "    with open('recipes.json') as in_file:\n",
    "        data = json.load(in_file)\n",
    "    \n",
    "    # if this recipe title already exists in the data, do not add it again\n",
    "    already_exists = False\n",
    "    for recipe in data:\n",
    "        if recipe['title'] == title:\n",
    "            already_exists = True\n",
    "    \n",
    "    # if a new recipe, append to the json object and dump back to the file\n",
    "    if not already_exists:\n",
    "        new_recipe = {}\n",
    "        new_recipe['title'] = title\n",
    "        new_recipe['picture'] = picture\n",
    "        new_recipe['ingredients'] = ingredients\n",
    "        new_recipe['method'] = method\n",
    "\n",
    "        data.append(new_recipe)\n",
    "    \n",
    "        with open('recipes.json', 'w') as out_file:\n",
    "            json.dump(data, out_file, indent=4)"
   ]
  },
  {
   "cell_type": "markdown",
   "metadata": {},
   "source": [
    "Note that allrecipes has two different HTML layouts for their recipe pages, a regular layout and a layout which supports shopping for ingredients directly from the recipe page.  These two layouts have the information we need in different locations, so we need to differentiate them.  If the title element we initially search for is set to 'None', we have to instead look for the elements where they would be in the second (shopper) layout."
   ]
  },
  {
   "cell_type": "code",
   "execution_count": 159,
   "metadata": {},
   "outputs": [
    {
     "name": "stdout",
     "output_type": "stream",
     "text": [
      "PARSING PAGE 1\n",
      "Saved: Curry Salmon with Mango (layout 1)\n",
      "Saved: Cake Mix Cinnamon Rolls (layout 2)\n",
      "Saved: Slow Cooker Creamy Chicken Taco Soup (layout 1)\n",
      "Saved: Simple Tomato Soup (layout 1)\n",
      "Saved: Two-Ingredient Pizza Dough (layout 1)\n",
      "Saved: Best Chocolate Chip Cookies (layout 2)\n",
      "Saved: Janet's Rich Banana Bread (layout 2)\n",
      "Saved: Creamed Eggs on Toast (layout 1)\n",
      "Saved: World's Best Lasagna (layout 2)\n",
      "Saved: Good Old Fashioned Pancakes (layout 1)\n",
      "Saved: To-Die-For Chicken Pot Pie (layout 2)\n",
      "Saved: Pantry Chicken Casserole (layout 1)\n",
      "Saved: Slow Cooker Barbecue Chicken Breast (layout 1)\n",
      "Saved: Island Kielbasa in a Slow Cooker (layout 1)\n",
      "Saved: Best Brownies (layout 2)\n",
      "Saved: Banana Banana Bread (layout 2)\n",
      "Saved: Shrimp and Sugar Snap Peas (layout 1)\n",
      "Saved: Easy Korean Ground Beef Bowl (layout 2)\n",
      "Saved: Dill Pickle Soup (layout 1)\n",
      "Saved: Fluffy Pancakes (layout 1)\n",
      "FINISHED PARSING\n"
     ]
    }
   ],
   "source": [
    "for page in range(first_page, last_page + 1):\n",
    "    # request the main allrecipes page which lists the top recipes\n",
    "    source = requests.get(\"https://www.allrecipes.com?page=\" + str(page))\n",
    "    print(\"PARSING PAGE {}\".format(page))\n",
    "    doc = bs(source.text,'html.parser')\n",
    "    \n",
    "    # find each recipe linked on the main page, and open their links one by one\n",
    "    recipe_cards = doc.select('a.fixed-recipe-card__title-link')\n",
    "    for card in recipe_cards:\n",
    "        recipe_page_source = requests.get(card['href'])        \n",
    "        recipe_main = bs(recipe_page_source.text,'html.parser')\n",
    "        \n",
    "        # search for the title, picture, ingredients, and method elements\n",
    "        title = recipe_main.select_one('.recipe-summary__h1')\n",
    "        if title is not None:\n",
    "             #for ordinary formatting layout (1)\n",
    "            layout = 1\n",
    "            picture = recipe_main.select_one('.rec-photo')\n",
    "            ingredients = recipe_main.select('.recipe-ingred_txt')\n",
    "            method = recipe_main.select('.recipe-directions__list--item')\n",
    "        # if the title is 'None', then the page must be in the second layout\n",
    "        else: \n",
    "            # for shopper formatting layout (2)\n",
    "            layout = 2\n",
    "            title = recipe_main.select_one('h1.headline.heading-content')\n",
    "            picture = recipe_main.select_one('.inner-container > img')\n",
    "            ingredients = recipe_main.select('span.ingredients-item-name')\n",
    "            method = recipe_main.select('div.paragraph > p')\n",
    "        \n",
    "        # compile a list of ingredients for the current recipe\n",
    "        ingredients_list = []\n",
    "        for ingredient in ingredients:\n",
    "            if ingredient.text != 'Add all ingredients to list' and ingredient.text != '':\n",
    "                ingredients_list.append(ingredient.text.strip())\n",
    "            \n",
    "        # compile a list of method instructions for the current recipe\n",
    "        method_list = []\n",
    "        for instruction in method:\n",
    "            method_list.append(instruction.text.strip())\n",
    "\n",
    "        # save all data for the current recipe to the json file\n",
    "        save_to_json(title.text, picture.attrs['src'], ingredients_list, method_list)\n",
    "        print(\"Saved: {} (layout {})\".format(title.text,layout))\n",
    "        \n",
    "print(\"FINISHED PARSING\")"
   ]
  },
  {
   "cell_type": "markdown",
   "metadata": {},
   "source": [
    "# Data Analysis\n",
    "\n",
    "Now we have a JSON object which contains recipe information scraped from the web.  We can use this data and perform some analyses on it."
   ]
  },
  {
   "cell_type": "code",
   "execution_count": 160,
   "metadata": {},
   "outputs": [
    {
     "data": {
      "text/html": [
       "<div>\n",
       "<style scoped>\n",
       "    .dataframe tbody tr th:only-of-type {\n",
       "        vertical-align: middle;\n",
       "    }\n",
       "\n",
       "    .dataframe tbody tr th {\n",
       "        vertical-align: top;\n",
       "    }\n",
       "\n",
       "    .dataframe thead th {\n",
       "        text-align: right;\n",
       "    }\n",
       "</style>\n",
       "<table border=\"1\" class=\"dataframe\">\n",
       "  <thead>\n",
       "    <tr style=\"text-align: right;\">\n",
       "      <th></th>\n",
       "      <th>ingredients</th>\n",
       "      <th>method</th>\n",
       "      <th>picture</th>\n",
       "      <th>title</th>\n",
       "    </tr>\n",
       "  </thead>\n",
       "  <tbody>\n",
       "    <tr>\n",
       "      <th>0</th>\n",
       "      <td>[1 (1 pound) fillet salmon fillet, 1/4 cup avo...</td>\n",
       "      <td>[Preheat oven to 400 degrees F (200 degrees C)...</td>\n",
       "      <td>https://images.media-allrecipes.com/userphotos...</td>\n",
       "      <td>Curry Salmon with Mango</td>\n",
       "    </tr>\n",
       "    <tr>\n",
       "      <th>1</th>\n",
       "      <td>[3 (.25 ounce) packages active dry yeast, 2 ½ ...</td>\n",
       "      <td>[In a small bowl, dissolve yeast in warm water...</td>\n",
       "      <td>https://imagesvc.meredithcorp.io/v3/mm/image?u...</td>\n",
       "      <td>Cake Mix Cinnamon Rolls</td>\n",
       "    </tr>\n",
       "    <tr>\n",
       "      <th>2</th>\n",
       "      <td>[1 serving nonstick cooking spray, 1 cup diced...</td>\n",
       "      <td>[Spray a slow cooker with cooking spray. Add o...</td>\n",
       "      <td>https://images.media-allrecipes.com/userphotos...</td>\n",
       "      <td>Slow Cooker Creamy Chicken Taco Soup</td>\n",
       "    </tr>\n",
       "    <tr>\n",
       "      <th>3</th>\n",
       "      <td>[1 tablespoon unsalted butter or margarine, 1 ...</td>\n",
       "      <td>[Heat butter and olive oil in a large saucepan...</td>\n",
       "      <td>https://images.media-allrecipes.com/userphotos...</td>\n",
       "      <td>Simple Tomato Soup</td>\n",
       "    </tr>\n",
       "    <tr>\n",
       "      <th>4</th>\n",
       "      <td>[1 1/2 cups self-rising flour, plus more for k...</td>\n",
       "      <td>[Mix flour and Greek yogurt together in a bowl...</td>\n",
       "      <td>https://images.media-allrecipes.com/userphotos...</td>\n",
       "      <td>Two-Ingredient Pizza Dough</td>\n",
       "    </tr>\n",
       "  </tbody>\n",
       "</table>\n",
       "</div>"
      ],
      "text/plain": [
       "                                         ingredients  \\\n",
       "0  [1 (1 pound) fillet salmon fillet, 1/4 cup avo...   \n",
       "1  [3 (.25 ounce) packages active dry yeast, 2 ½ ...   \n",
       "2  [1 serving nonstick cooking spray, 1 cup diced...   \n",
       "3  [1 tablespoon unsalted butter or margarine, 1 ...   \n",
       "4  [1 1/2 cups self-rising flour, plus more for k...   \n",
       "\n",
       "                                              method  \\\n",
       "0  [Preheat oven to 400 degrees F (200 degrees C)...   \n",
       "1  [In a small bowl, dissolve yeast in warm water...   \n",
       "2  [Spray a slow cooker with cooking spray. Add o...   \n",
       "3  [Heat butter and olive oil in a large saucepan...   \n",
       "4  [Mix flour and Greek yogurt together in a bowl...   \n",
       "\n",
       "                                             picture  \\\n",
       "0  https://images.media-allrecipes.com/userphotos...   \n",
       "1  https://imagesvc.meredithcorp.io/v3/mm/image?u...   \n",
       "2  https://images.media-allrecipes.com/userphotos...   \n",
       "3  https://images.media-allrecipes.com/userphotos...   \n",
       "4  https://images.media-allrecipes.com/userphotos...   \n",
       "\n",
       "                                  title  \n",
       "0               Curry Salmon with Mango  \n",
       "1               Cake Mix Cinnamon Rolls  \n",
       "2  Slow Cooker Creamy Chicken Taco Soup  \n",
       "3                    Simple Tomato Soup  \n",
       "4            Two-Ingredient Pizza Dough  "
      ]
     },
     "execution_count": 160,
     "metadata": {},
     "output_type": "execute_result"
    }
   ],
   "source": [
    "recipes = pd.read_json(r'recipes.json')\n",
    "recipes.head()"
   ]
  },
  {
   "cell_type": "code",
   "execution_count": 190,
   "metadata": {},
   "outputs": [],
   "source": [
    "all_ingredients_list = []\n",
    "\n",
    "for row in recipes['ingredients']:\n",
    "    for ing in row:\n",
    "        all_ingredients_list.append(ing)"
   ]
  },
  {
   "cell_type": "code",
   "execution_count": 191,
   "metadata": {},
   "outputs": [
    {
     "data": {
      "text/html": [
       "<div>\n",
       "<style scoped>\n",
       "    .dataframe tbody tr th:only-of-type {\n",
       "        vertical-align: middle;\n",
       "    }\n",
       "\n",
       "    .dataframe tbody tr th {\n",
       "        vertical-align: top;\n",
       "    }\n",
       "\n",
       "    .dataframe thead th {\n",
       "        text-align: right;\n",
       "    }\n",
       "</style>\n",
       "<table border=\"1\" class=\"dataframe\">\n",
       "  <thead>\n",
       "    <tr style=\"text-align: right;\">\n",
       "      <th></th>\n",
       "      <th>ingredients</th>\n",
       "      <th>edited</th>\n",
       "    </tr>\n",
       "  </thead>\n",
       "  <tbody>\n",
       "    <tr>\n",
       "      <th>0</th>\n",
       "      <td>1 (1 pound) fillet salmon fillet</td>\n",
       "      <td>1 (1 pound) fillet salmon fillet</td>\n",
       "    </tr>\n",
       "    <tr>\n",
       "      <th>1</th>\n",
       "      <td>1/4 cup avocado oil</td>\n",
       "      <td>1/4 cup avocado oil</td>\n",
       "    </tr>\n",
       "    <tr>\n",
       "      <th>2</th>\n",
       "      <td>1 teaspoon curry powder</td>\n",
       "      <td>1 teaspoon curry powder</td>\n",
       "    </tr>\n",
       "    <tr>\n",
       "      <th>3</th>\n",
       "      <td>salt to taste</td>\n",
       "      <td>salt to taste</td>\n",
       "    </tr>\n",
       "    <tr>\n",
       "      <th>4</th>\n",
       "      <td>1 mango - peeled, seeded, and diced</td>\n",
       "      <td>1 mango - peeled, seeded, and diced</td>\n",
       "    </tr>\n",
       "  </tbody>\n",
       "</table>\n",
       "</div>"
      ],
      "text/plain": [
       "                           ingredients                               edited\n",
       "0     1 (1 pound) fillet salmon fillet     1 (1 pound) fillet salmon fillet\n",
       "1                  1/4 cup avocado oil                  1/4 cup avocado oil\n",
       "2              1 teaspoon curry powder              1 teaspoon curry powder\n",
       "3                        salt to taste                        salt to taste\n",
       "4  1 mango - peeled, seeded, and diced  1 mango - peeled, seeded, and diced"
      ]
     },
     "execution_count": 191,
     "metadata": {},
     "output_type": "execute_result"
    }
   ],
   "source": [
    "ingredients = pd.DataFrame(all_ingredients_list, columns=['ingredients'])\n",
    "ingredients['edited'] = ingredients['ingredients']\n",
    "ingredients.head()"
   ]
  },
  {
   "cell_type": "markdown",
   "metadata": {},
   "source": [
    "Now we attempt to clean the ingredients list to get rid of the 'noise' and have a raw list of ingredient names without units, numbers or descriptors."
   ]
  },
  {
   "cell_type": "code",
   "execution_count": 192,
   "metadata": {},
   "outputs": [
    {
     "data": {
      "text/html": [
       "<div>\n",
       "<style scoped>\n",
       "    .dataframe tbody tr th:only-of-type {\n",
       "        vertical-align: middle;\n",
       "    }\n",
       "\n",
       "    .dataframe tbody tr th {\n",
       "        vertical-align: top;\n",
       "    }\n",
       "\n",
       "    .dataframe thead th {\n",
       "        text-align: right;\n",
       "    }\n",
       "</style>\n",
       "<table border=\"1\" class=\"dataframe\">\n",
       "  <thead>\n",
       "    <tr style=\"text-align: right;\">\n",
       "      <th></th>\n",
       "      <th>ingredients</th>\n",
       "      <th>edited</th>\n",
       "    </tr>\n",
       "  </thead>\n",
       "  <tbody>\n",
       "    <tr>\n",
       "      <th>0</th>\n",
       "      <td>1 (1 pound) fillet salmon fillet</td>\n",
       "      <td>fillet salmon fillet</td>\n",
       "    </tr>\n",
       "    <tr>\n",
       "      <th>1</th>\n",
       "      <td>1/4 cup avocado oil</td>\n",
       "      <td>avocado oil</td>\n",
       "    </tr>\n",
       "    <tr>\n",
       "      <th>2</th>\n",
       "      <td>1 teaspoon curry powder</td>\n",
       "      <td>curry powder</td>\n",
       "    </tr>\n",
       "    <tr>\n",
       "      <th>3</th>\n",
       "      <td>salt to taste</td>\n",
       "      <td>salt to taste</td>\n",
       "    </tr>\n",
       "    <tr>\n",
       "      <th>4</th>\n",
       "      <td>1 mango - peeled, seeded, and diced</td>\n",
       "      <td>mango   peeled</td>\n",
       "    </tr>\n",
       "  </tbody>\n",
       "</table>\n",
       "</div>"
      ],
      "text/plain": [
       "                           ingredients                edited\n",
       "0     1 (1 pound) fillet salmon fillet  fillet salmon fillet\n",
       "1                  1/4 cup avocado oil           avocado oil\n",
       "2              1 teaspoon curry powder          curry powder\n",
       "3                        salt to taste         salt to taste\n",
       "4  1 mango - peeled, seeded, and diced        mango   peeled"
      ]
     },
     "execution_count": 192,
     "metadata": {},
     "output_type": "execute_result"
    }
   ],
   "source": [
    "# lists of common words we want to remove\n",
    "units = ['gallon','quart','pint','cup','teaspoon','tablespoon','ounce','pound','can','pinch','serving','slice','package','bottle']\n",
    "descriptors = ['small','medium','large']\n",
    "\n",
    "# remove common measuring and descriptive words\n",
    "for word in units + descriptors:\n",
    "    plural = word+\"s\"\n",
    "    ingredients['edited'] = ingredients['edited'].str.replace(' '+plural+' ', ' ')\n",
    "    ingredients['edited'] = ingredients['edited'].str.replace(' '+word+' ','')\n",
    "\n",
    "# remove parantheicals\n",
    "ingredients['edited'] = ingredients['edited'].str.replace(r'\\([^()]*\\)','')\n",
    "# remove text after commas and hyphens\n",
    "ingredients['edited'] = ingredients['edited'].str.partition(',')\n",
    "ingredients['edited'] = ingredients['edited'].str.partition(',')\n",
    "# remove non-alphabetical characters\n",
    "ingredients['edited'] = ingredients['edited'].str.replace('[^a-zA-Z]', ' ')\n",
    "\n",
    "# edit down extra spaces caused by adjacent removals\n",
    "ingredients['edited'] = ingredients['edited'].str.strip()\n",
    "\n",
    "ingredients.head()"
   ]
  },
  {
   "cell_type": "markdown",
   "metadata": {},
   "source": [
    "From here we can investigate which ingredients are the most common.  First, we see which edited rows appear most commonly with a call to .value_counts()"
   ]
  },
  {
   "cell_type": "code",
   "execution_count": 194,
   "metadata": {},
   "outputs": [
    {
     "data": {
      "text/plain": [
       "butter                      12\n",
       "salt                        11\n",
       "all purpose flour            9\n",
       "white sugar                  8\n",
       "baking soda                  4\n",
       "cloves garlic                4\n",
       "ground black pepper          4\n",
       "milk                         4\n",
       "egg                          4\n",
       "eggs                         4\n",
       "brown sugar                  4\n",
       "vanilla extract              4\n",
       "chicken broth                3\n",
       "water                        3\n",
       "baking powder                3\n",
       "cooking spray                3\n",
       "olive oil                    2\n",
       "lean ground beef             2\n",
       "unsweetened cocoa powder     2\n",
       "onion                        2\n",
       "Name: edited, dtype: int64"
      ]
     },
     "execution_count": 194,
     "metadata": {},
     "output_type": "execute_result"
    }
   ],
   "source": [
    "ingredients['edited'].value_counts().head(20)"
   ]
  },
  {
   "cell_type": "markdown",
   "metadata": {},
   "source": [
    "This shows us the most common row values.  However, this data has a few flaws.  Primarily, the issue is that we need the entire row to match to be counted together.  For instance, 'sugar' and 'white sugar' are counted seperately in this analysis.\n",
    "\n",
    "Another approach might be to store the list of all ingredient 'words' in its own dataframe, and perform a value_counts on it to see what the most common non-unit, non-descriptive words are in our recipe ingredients.  This loses some specificity (we lose the distinction between 'white sugar' and 'brown sugar'), but is helpful in other contexts."
   ]
  },
  {
   "cell_type": "code",
   "execution_count": 195,
   "metadata": {},
   "outputs": [],
   "source": [
    "ingredient_words_list = []\n",
    "for row in ingredients['edited']:\n",
    "    for word in row.split():\n",
    "        ingredient_words_list.append(word)\n",
    "\n",
    "ingredient_words = pd.DataFrame(ingredient_words_list,columns=['words'])"
   ]
  },
  {
   "cell_type": "code",
   "execution_count": 196,
   "metadata": {},
   "outputs": [
    {
     "data": {
      "text/plain": [
       "sugar      17\n",
       "butter     15\n",
       "salt       14\n",
       "white      14\n",
       "pepper     13\n",
       "flour      10\n",
       "all         9\n",
       "purpose     9\n",
       "powder      9\n",
       "ground      9\n",
       "chicken     8\n",
       "onion       8\n",
       "chopped     8\n",
       "brown       7\n",
       "baking      7\n",
       "garlic      7\n",
       "green       7\n",
       "diced       6\n",
       "water       6\n",
       "oil         6\n",
       "Name: words, dtype: int64"
      ]
     },
     "execution_count": 196,
     "metadata": {},
     "output_type": "execute_result"
    }
   ],
   "source": [
    "ingredient_words['words'].value_counts().head(20)"
   ]
  },
  {
   "cell_type": "code",
   "execution_count": null,
   "metadata": {},
   "outputs": [],
   "source": []
  }
 ],
 "metadata": {
  "kernelspec": {
   "display_name": "Python 3",
   "language": "python",
   "name": "python3"
  },
  "language_info": {
   "codemirror_mode": {
    "name": "ipython",
    "version": 3
   },
   "file_extension": ".py",
   "mimetype": "text/x-python",
   "name": "python",
   "nbconvert_exporter": "python",
   "pygments_lexer": "ipython3",
   "version": "3.7.3"
  }
 },
 "nbformat": 4,
 "nbformat_minor": 2
}
